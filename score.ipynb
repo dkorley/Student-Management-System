{
 "cells": [
  {
   "cell_type": "code",
   "execution_count": 1,
   "metadata": {},
   "outputs": [],
   "source": [
    "class marks:\n",
    "    def setmarks(self, m1, m2):\n",
    "        self.mark1 = m1\n",
    "        self.mark2 = m2\n",
    "        "
   ]
  },
  {
   "cell_type": "code",
   "execution_count": 2,
   "metadata": {},
   "outputs": [],
   "source": [
    "class results(marks):\n",
    "    def calc(self):\n",
    "        self.total = self.mark1 + self.mark2\n",
    "        return self.total\n",
    "    \n",
    "    def puttotal(self):\n",
    "        print(\"Total : \", self.total)\n",
    "\n",
    "    \n",
    "    def grade(self):\n",
    "        if self.total >= 80:\n",
    "            print(\"You had a score of : \", self.total, \"and Grade : \", \"A\")\n",
    "        elif self.total >= 75:\n",
    "            print(\"You had a score of : \", self.total, \"and Grade : \", \"B+\")\n",
    "        elif self.total >= 70:\n",
    "            print(\"You had a score of : \", self.total, \"and Grade : \", \"B\")\n",
    "        elif self.total >= 65:\n",
    "            print(\"You had a score of : \", self.total, \"and Grade : \", \"C+\")\n",
    "        elif self.total >= 60:\n",
    "            print(\"You had a score of : \", self.total, \"and Grade : \", \"C\")\n",
    "        elif self.total >= 55:\n",
    "            print(\"You had a score of : \", self.total, \"and Grade : \", \"D+\")\n",
    "        elif self.total >= 50:\n",
    "            print(\"You had a score of : \", self.total, \"and Grade : \", \"D\")\n",
    "        else:\n",
    "            print(\"You had a score of : \", self.total, \"and Grade : \", \"E\")\n",
    "\n",
    "    def remarks(self):\n",
    "        if self.total >= 80:\n",
    "            print(\"You had a score of : \", self.total, \"and Remarks : \", \"Distinction\")\n",
    "        elif self.total >= 75:\n",
    "            print(\"You had a score of : \", self.total, \"and Remarks : \", \"Excellent\")\n",
    "        elif self.total >= 70:\n",
    "            print(\"You had a score of : \", self.total, \"and Remarks : \", \"V. Good\")\n",
    "        elif self.total >= 65:\n",
    "            print(\"You had a score of : \", self.total, \"and Remarks : \", \"Good\")\n",
    "        elif self.total >= 60:\n",
    "            print(\"You had a score of : \", self.total, \"and Remarks : \", \"Satisfactory\")\n",
    "        elif self.total >= 55:\n",
    "            print(\"You had a score of : \", self.total, \"and Remarks : \", \"Credit\")\n",
    "        elif self.total >= 50:\n",
    "            print(\"You had a score of : \", self.total, \"and Remarks : \", \"Poor\")\n",
    "        else:\n",
    "            print(\"You had a score of : \", self.total, \"and Remarks : \", \"Fail\")"
   ]
  },
  {
   "cell_type": "code",
   "execution_count": 3,
   "metadata": {},
   "outputs": [
    {
     "name": "stdout",
     "output_type": "stream",
     "text": [
      "Total :  49\n",
      "You had a score of :  49 and Grade :  E\n",
      "You had a score of :  49 and Remarks :  Fail\n"
     ]
    }
   ],
   "source": [
    "r = results()\n",
    "r.setmarks(40, 9)\n",
    "r.calc()\n",
    "r.puttotal()\n",
    "r.grade()\n",
    "r.remarks()\n"
   ]
  }
 ],
 "metadata": {
  "kernelspec": {
   "display_name": ".venv",
   "language": "python",
   "name": "python3"
  },
  "language_info": {
   "codemirror_mode": {
    "name": "ipython",
    "version": 3
   },
   "file_extension": ".py",
   "mimetype": "text/x-python",
   "name": "python",
   "nbconvert_exporter": "python",
   "pygments_lexer": "ipython3",
   "version": "3.12.0"
  },
  "orig_nbformat": 4,
  "vscode": {
   "interpreter": {
    "hash": "cd49401ea18ea89a34915faed8b53c384aa68fd42e1ec6741da3f4a2bdf391d2"
   }
  }
 },
 "nbformat": 4,
 "nbformat_minor": 2
}
